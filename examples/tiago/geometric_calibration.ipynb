{
  "cells": [
  {
   "cell_type": "markdown",
   "metadata": {},
   "source": [
    "# Import Required Libraries\n",
    "Import the necessary libraries, including TiagoCalibration, load_robot, and write_to_xacro from utils.tiago_tools."
   ]
  },
  {
   "cell_type": "code",
   "execution_count": null,
   "metadata": {},
   "outputs": [],
   "source": [
    "# Import the necessary libraries\n",
    "from utils.tiago_tools import TiagoCalibration, load_robot, write_to_xacro\n",
    "import argparse"
   ]
  },
  {
   "cell_type": "markdown",
   "metadata": {},
   "source": [
    "# Load the Robot Model\n",
    "Load the robot model using the load_robot function with the specified URDF file."
   ]
  },
  {
   "cell_type": "code",
   "execution_count": null,
   "metadata": {},
   "outputs": [],
   "source": [
    "# Load the robot model using the load_robot function with the specified URDF file\n",
    "tiago = load_robot(\"urdf/tiago_48_schunk.urdf\", load_by_urdf=True)"
   ]
  },
  {
   "cell_type": "markdown",
   "metadata": {},
   "source": [
    "# Create Calibration Object\n",
    "Create a TiagoCalibration object using the loaded robot model and the configuration file."
   ]
  },
  {
   "cell_type": "code",
   "execution_count": null,
   "metadata": {},
   "outputs": [],
   "source": [
    "# Create a TiagoCalibration object using the loaded robot model and the configuration file\n",
    "tiago_calib = TiagoCalibration(tiago, \"config/tiago_config.yaml\", del_list=[])\n",
    "tiago_calib.param[\"known_baseframe\"] = False\n",
    "tiago_calib.param[\"known_tipframe\"] = False"
   ]
  },
  {
   "cell_type": "markdown",
   "metadata": {},
   "source": [
    "# Initialize Calibration Parameters\n",
    "Initialize the calibration parameters by calling the initialize method on the TiagoCalibration object."
   ]
  },
  {
   "cell_type": "code",
   "execution_count": null,
   "metadata": {},
   "outputs": [],
   "source": [
    "# Initialize Calibration Parameters\n",
    "\n",
    "# Load data file and determine parameters to be calibrated\n",
    "tiago_calib.initialize()\n",
    "\n",
    "# Print the parameters to verify initialization\n",
    "print(tiago_calib.param[\"param_name\"])"
   ]
  },
  {
   "cell_type": "markdown",
   "metadata": {},
   "source": [
    "# Solve Calibration\n",
    "Solve the calibration using the solve method on the TiagoCalibration object."
   ]
  },
  {
   "cell_type": "code",
   "execution_count": null,
   "metadata": {},
   "outputs": [],
   "source": [
    "# Solve Calibration\n",
    "# Solve the calibration using the solve method on the TiagoCalibration object\n",
    "tiago_calib.solve()"
   ]
  },
  {
   "cell_type": "markdown",
   "metadata": {},
   "source": [
    "# Optional: Plot Calibration Results\n",
    "Plot the calibration results using the plot method on the TiagoCalibration object."
   ]
  },
  {
   "cell_type": "code",
   "execution_count": null,
   "metadata": {},
   "outputs": [],
   "source": [
    "# Optionally, plot the results to visualize the calibration\n",
    "tiago_calib.plot()"
   ]
  }
 ],
 "metadata": {
  "language_info": {
   "name": "python"
  }
 },
 "nbformat": 4,
 "nbformat_minor": 2
}
